{
 "cells": [
  {
   "cell_type": "markdown",
   "metadata": {},
   "source": [
    "# CISC 351 Project Milestone\n",
    "\n",
    "## Identifying Hate Speech in Tweets\n",
    "### Group 21\n",
    "### Connor Crowe (20009994)\n",
    "### Iain Doran-Des Brisay (20026553)\n",
    "### Jordan Mack (20005220)\n",
    "### March 9th 2020\n",
    "\n",
    "\n",
    "Packages needed: seaborn, matplotlib, scipy, pandas, numpy, scikit-learn"
   ]
  },
  {
   "cell_type": "code",
   "execution_count": 1,
   "metadata": {},
   "outputs": [],
   "source": [
    "# Imports\n",
    "import pandas as pd\n",
    "import numpy as np\n",
    "import matplotlib.pyplot as plt\n",
    "from sklearn import linear_model, svm\n",
    "from sklearn.naive_bayes import GaussianNB, MultinomialNB\n",
    "from sklearn.model_selection import train_test_split, GridSearchCV, StratifiedKFold, RepeatedKFold\n",
    "from sklearn.feature_extraction.text import CountVectorizer\n",
    "from sklearn.metrics import accuracy_score, precision_score, recall_score, confusion_matrix, classification_report\n",
    "import seaborn as sns\n",
    "from sklearn.ensemble import RandomForestClassifier\n",
    "import statistics"
   ]
  },
  {
   "cell_type": "markdown",
   "metadata": {},
   "source": [
    "Reading dataset from local system:"
   ]
  },
  {
   "cell_type": "code",
   "execution_count": 2,
   "metadata": {},
   "outputs": [],
   "source": [
    "df = pd.read_csv(\"hate_speech_dataset.csv\")"
   ]
  },
  {
   "cell_type": "markdown",
   "metadata": {},
   "source": [
    "Here we (will eventually) manipulate the columns from their original confidence score to our own normalized values. \n",
    "\n",
    "0 - 0.33    - Does not contain any hate speech but may contain offensive language\n",
    "\n",
    "0.33 - 0.66 - May contain offensive language or hate speech\n",
    "\n",
    "0.66 - 1    - Contains offensive language and may contain hate speech\n",
    "\n",
    "Although these values are not discrete in our dataset due to confidence values given by the creators of this dataset.\n"
   ]
  },
  {
   "cell_type": "code",
   "execution_count": 3,
   "metadata": {},
   "outputs": [],
   "source": [
    "# Delete columns:\n",
    "dropColumns = [\n",
    "    \"_unit_id\",\n",
    "    \"does_this_tweet_contain_hate_speech:confidence\",\n",
    "    \"_golden\",\n",
    "    \"_unit_state\",\n",
    "    \"_trusted_judgments\",\n",
    "    \"_last_judgment_at\",\n",
    "    \"_created_at\",\n",
    "    \"orig__golden\",\n",
    "    \"orig__last_judgment_at\",\n",
    "    \"orig__trusted_judgments\",\n",
    "    \"orig__unit_id\",\n",
    "    \"orig__unit_state\",\n",
    "    \"_updated_at\",\n",
    "    \"orig_does_this_tweet_contain_hate_speech\",\n",
    "    \"does_this_tweet_contain_hate_speech_gold\",\n",
    "    \"does_this_tweet_contain_hate_speech_gold_reason\",\n",
    "    \"does_this_tweet_contain_hate_speechconfidence\",\n",
    "    \"tweet_id\"\n",
    "]\n",
    "df.drop(dropColumns, axis=1, inplace=True)"
   ]
  },
  {
   "cell_type": "code",
   "execution_count": 4,
   "metadata": {},
   "outputs": [
    {
     "name": "stdout",
     "output_type": "stream",
     "text": [
      "Hate Speech:\t\t2399 (16.5%)\n",
      "Offensive Language:\t4836 (33.3%)\n",
      "Non-offensive Speech:\t7274 (50.1%)\n",
      "Lenght of dataset:\t14509\n"
     ]
    },
    {
     "data": {
      "text/html": [
       "<div>\n",
       "<style scoped>\n",
       "    .dataframe tbody tr th:only-of-type {\n",
       "        vertical-align: middle;\n",
       "    }\n",
       "\n",
       "    .dataframe tbody tr th {\n",
       "        vertical-align: top;\n",
       "    }\n",
       "\n",
       "    .dataframe thead th {\n",
       "        text-align: right;\n",
       "    }\n",
       "</style>\n",
       "<table border=\"1\" class=\"dataframe\">\n",
       "  <thead>\n",
       "    <tr style=\"text-align: right;\">\n",
       "      <th></th>\n",
       "      <th>type</th>\n",
       "      <th>tweet_text</th>\n",
       "      <th>label</th>\n",
       "    </tr>\n",
       "  </thead>\n",
       "  <tbody>\n",
       "    <tr>\n",
       "      <td>0</td>\n",
       "      <td>Offensive</td>\n",
       "      <td>Warning: penny boards will make you a faggot</td>\n",
       "      <td>1</td>\n",
       "    </tr>\n",
       "    <tr>\n",
       "      <td>1</td>\n",
       "      <td>Hate</td>\n",
       "      <td>Fuck dykes</td>\n",
       "      <td>2</td>\n",
       "    </tr>\n",
       "    <tr>\n",
       "      <td>2</td>\n",
       "      <td>Hate</td>\n",
       "      <td>=@sizzurp__ @ILIKECATS74 @yoPapi_chulo @brando...</td>\n",
       "      <td>2</td>\n",
       "    </tr>\n",
       "    <tr>\n",
       "      <td>3</td>\n",
       "      <td>Hate</td>\n",
       "      <td>\"@jayswaggkillah: \"@JacklynAnnn: @jayswaggkill...</td>\n",
       "      <td>2</td>\n",
       "    </tr>\n",
       "    <tr>\n",
       "      <td>4</td>\n",
       "      <td>Offensive</td>\n",
       "      <td>@Zhugstubble You heard me bitch but any way I'...</td>\n",
       "      <td>1</td>\n",
       "    </tr>\n",
       "    <tr>\n",
       "      <td>...</td>\n",
       "      <td>...</td>\n",
       "      <td>...</td>\n",
       "      <td>...</td>\n",
       "    </tr>\n",
       "    <tr>\n",
       "      <td>14504</td>\n",
       "      <td>Neutral</td>\n",
       "      <td>I'm sorry. Did I offend your white supremacist...</td>\n",
       "      <td>0</td>\n",
       "    </tr>\n",
       "    <tr>\n",
       "      <td>14505</td>\n",
       "      <td>Neutral</td>\n",
       "      <td>@tradethecycles Caucasian euro aryan whatever....</td>\n",
       "      <td>0</td>\n",
       "    </tr>\n",
       "    <tr>\n",
       "      <td>14506</td>\n",
       "      <td>Neutral</td>\n",
       "      <td>=@yadavakhilesh sir a patient named Aryan Khan...</td>\n",
       "      <td>0</td>\n",
       "    </tr>\n",
       "    <tr>\n",
       "      <td>14507</td>\n",
       "      <td>Neutral</td>\n",
       "      <td>@Iamshivachari  Happy birthday bro _Ì«ÌÐ_ \\nHa...</td>\n",
       "      <td>0</td>\n",
       "    </tr>\n",
       "    <tr>\n",
       "      <td>14508</td>\n",
       "      <td>Neutral</td>\n",
       "      <td>@Hajrahkiayni Aryan Kapoor is such a cute name...</td>\n",
       "      <td>0</td>\n",
       "    </tr>\n",
       "  </tbody>\n",
       "</table>\n",
       "<p>14509 rows × 3 columns</p>\n",
       "</div>"
      ],
      "text/plain": [
       "            type                                         tweet_text  label\n",
       "0      Offensive       Warning: penny boards will make you a faggot      1\n",
       "1           Hate                                         Fuck dykes      2\n",
       "2           Hate  =@sizzurp__ @ILIKECATS74 @yoPapi_chulo @brando...      2\n",
       "3           Hate  \"@jayswaggkillah: \"@JacklynAnnn: @jayswaggkill...      2\n",
       "4      Offensive  @Zhugstubble You heard me bitch but any way I'...      1\n",
       "...          ...                                                ...    ...\n",
       "14504    Neutral  I'm sorry. Did I offend your white supremacist...      0\n",
       "14505    Neutral  @tradethecycles Caucasian euro aryan whatever....      0\n",
       "14506    Neutral  =@yadavakhilesh sir a patient named Aryan Khan...      0\n",
       "14507    Neutral  @Iamshivachari  Happy birthday bro _Ì«ÌÐ_ \\nHa...      0\n",
       "14508    Neutral  @Hajrahkiayni Aryan Kapoor is such a cute name...      0\n",
       "\n",
       "[14509 rows x 3 columns]"
      ]
     },
     "execution_count": 4,
     "metadata": {},
     "output_type": "execute_result"
    },
    {
     "data": {
      "image/png": "[encoded data removed]",
      "text/plain": [
       "<Figure size 432x288 with 1 Axes>"
      ]
     },
     "metadata": {
      "needs_background": "light"
     },
     "output_type": "display_data"
    }
   ],
   "source": [
    "# change type data from:\n",
    "# \"The tweet contains hate speech\" -> 1\n",
    "# \"The tweet uses offensive language but not hate speech\" -> 2\n",
    "# \"The tweet is not offensive\" -> 3\n",
    "# Manipulate columns:\n",
    "df = df.rename(columns={'does_this_tweet_contain_hate_speech': 'type'})\n",
    "\n",
    "for i in range(len(df[\"type\"])):\n",
    "    if(df[\"type\"][i] == \"The tweet contains hate speech\"):\n",
    "        df[\"type\"][i] = \"Hate\"\n",
    "    elif(df[\"type\"][i] == \"The tweet uses offensive language but not hate speech\"):\n",
    "        df[\"type\"][i] = \"Offensive\"\n",
    "    elif(df[\"type\"][i] == \"The tweet is not offensive\"):\n",
    "        df[\"type\"][i] = \"Neutral\"\n",
    "\n",
    "df['label'] = df['type'].apply(lambda x: 0 if x=='Neutral' else (1 if x == 'Offensive' else 2))\n",
    "df['type'].hist()\n",
    "datasetLength = len(df)\n",
    "lenHate = sum(1 for i in df[\"type\"] if i == \"Hate\")\n",
    "lenOffensive = sum(1 for i in df[\"type\"] if i == \"Offensive\")\n",
    "lenNeutral = sum(1 for i in df[\"type\"] if i == \"Neutral\")\n",
    "\n",
    "print(\"Hate Speech:\\t\\t\"+str(lenHate)+\" (\"+str(round((lenHate/datasetLength)*100,1))+\"%)\")\n",
    "print(\"Offensive Language:\\t\"+str(lenOffensive)+\" (\"+str(round((lenOffensive/datasetLength)*100,1))+\"%)\")\n",
    "print(\"Non-offensive Speech:\\t\"+str(lenNeutral)+\" (\"+str(round((lenNeutral/datasetLength)*100,1))+\"%)\")\n",
    "print(\"Lenght of dataset:\\t\"+str(datasetLength))\n",
    "        \n",
    "df"
   ]
  },
  {
   "cell_type": "markdown",
   "metadata": {},
   "source": [
    "The next step is to divide the dataset into a training and test. In our model we will use train test split of 80/20, given that our dataset is 14.5k rows (fairly large), this may be changed later when execution can afford to be longer.\n",
    "\n",
    "Also the use of a word count vecotrizer will be needed as this is a classification problem."
   ]
  },
  {
   "cell_type": "code",
   "execution_count": 5,
   "metadata": {},
   "outputs": [],
   "source": [
    "#X_train, X_test, y_train, y_test = train_test_split(df[\"tweet_text\"], df[\"label\"], test_size = 0.2, random_state=1)\n",
    "\n",
    "# Naive Bayes (Optimal Parameters)\n",
    "nb = MultinomialNB(alpha=1, fit_prior=True, class_prior=None)\n",
    "\n",
    "# Random Forest (Optimal Parameters)\n",
    "rf = RandomForestClassifier(n_estimators=100, random_state=0)\n",
    "\n",
    "# Support Vector Machine (Optimal Parameters)\n",
    "SVM = svm.SVC(C=10, kernel='rbf', gamma=0.001)"
   ]
  },
  {
   "cell_type": "code",
   "execution_count": 6,
   "metadata": {},
   "outputs": [
    {
     "name": "stdout",
     "output_type": "stream",
     "text": [
      "[Fold 1/10]\n",
      "[Fold 2/10]\n",
      "[Fold 3/10]\n",
      "[Fold 4/10]\n",
      "[Fold 5/10]\n",
      "[Fold 6/10]\n",
      "[Fold 7/10]\n",
      "[Fold 8/10]\n",
      "[Fold 9/10]\n",
      "[Fold 10/10]\n"
     ]
    }
   ],
   "source": [
    "X = df[\"tweet_text\"]\n",
    "y = df[\"type\"]\n",
    "\n",
    "folds = 10\n",
    "\n",
    "skf = StratifiedKFold(n_splits=folds, random_state=None)\n",
    "index_iterator = skf.split(X, y)\n",
    "\n",
    "kf = RepeatedKFold(n_splits=20, n_repeats=10, random_state=None)\n",
    "scores = {\n",
    "    \"NaiveBayes\":{\n",
    "        \"Accuracy\": [],\n",
    "        \"Precision\": [],\n",
    "        \"Recall\": []\n",
    "    },\n",
    "    \"RandomForest\":{\n",
    "        \"Accuracy\": [],\n",
    "        \"Precision\": [],\n",
    "        \"Recall\": []\n",
    "    },\n",
    "    \"SVM\":{\n",
    "        \"Accuracy\": [],\n",
    "        \"Precision\": [],\n",
    "        \"Recall\": []\n",
    "    }\n",
    "}\n",
    "\n",
    "nb_params = {\n",
    "    \"alpha\": (1, 0.9, 0.7, 0.5, 0.3, 0.1, 0.01, 0.001, 0.0001, 0.00001),\n",
    "    \"fit_prior\": (True, False),\n",
    "    \"class_prior\": [None]\n",
    "}\n",
    "\n",
    "# Only kept the best parameters, grid search slows down execution time\n",
    "svm_params = {\n",
    "    'C': [10],\n",
    "    'gamma': [1, 0.001],\n",
    "    'kernel': ['rbf']\n",
    "}\n",
    "\n",
    "\n",
    "for i, (train_index, test_index) in enumerate(index_iterator):\n",
    "    print('[Fold %d/%d]' % (i +1, folds))\n",
    "    X_train, X_test = X[train_index], X[test_index] \n",
    "    y_train, y_test = y[train_index], y[test_index]\n",
    "    cv = CountVectorizer(strip_accents='ascii', token_pattern=u'(?ui)\\\\bw*[a-z]+\\\\w*\\\\b', lowercase=True, stop_words=\"english\")\n",
    "    X_train_cv = cv.fit_transform(X_train)\n",
    "    X_test_cv = cv.transform(X_test)\n",
    "    \n",
    "    # Naive Bayes (GridSearch Implementation)\n",
    "#     nb_gs = GridSearchCV(estimator=nb, param_grid=nb_params)\n",
    "#     nb_gs.fit(X_train_cv, y_train)\n",
    "#     print(nb_gs.best_params_)\n",
    "#     nb_pred = nb_gs.predict(X_test_cv)\n",
    "\n",
    "    # Naive Bayes (Optimal Parameters)\n",
    "    nb.fit(X_train_cv, y_train)\n",
    "    nb_pred = nb.predict(X_test_cv)\n",
    "    \n",
    "    scores[\"NaiveBayes\"][\"Accuracy\"].append(round(accuracy_score(y_test, nb_pred)*100,3))\n",
    "    scores[\"NaiveBayes\"][\"Precision\"].append(round(precision_score(y_test, nb_pred, average='micro')*100,3))\n",
    "    scores[\"NaiveBayes\"][\"Recall\"].append(round(recall_score(y_test, nb_pred, average='micro')*100,3))\n",
    "    \n",
    "    # Random Forest\n",
    "#     rf.fit(X_train_cv, y_train) \n",
    "#     rf_pred = rf.predict(X_test_cv)\n",
    "    \n",
    "#     scores[\"RandomForest\"][\"Accuracy\"].append(round(accuracy_score(y_test, rf_pred)*100,3))\n",
    "#     scores[\"RandomForest\"][\"Precision\"].append(round(precision_score(y_test, rf_pred, average='micro')*100,3))\n",
    "#     scores[\"RandomForest\"][\"Recall\"].append(round(recall_score(y_test, rf_pred, average='micro')*100,3))\n",
    "    \n",
    "#     # Support Vector Machine (GridSearch Implementation)\n",
    "#     svm_gs = GridSearchCV(estimator=SVM, param_grid=svm_params)\n",
    "#     svm_gs.fit(X_train_cv, y_train)\n",
    "#     print(svm_gs.best_params_)\n",
    "#     svm_pred = svm_gs.predict(X_test_cv)\n",
    "\n",
    "    # Support Vector Machine (Optimal Parameters)\n",
    "#     SVM.fit(X_train_cv, y_train)\n",
    "#     svm_pred = SVM.predict(X_test_cv)\n",
    "    \n",
    "#     scores[\"SVM\"][\"Accuracy\"].append(round(accuracy_score(y_test, svm_pred)*100,3))\n",
    "#     scores[\"SVM\"][\"Precision\"].append(round(precision_score(y_test, svm_pred, average='micro')*100,3))\n",
    "#     scores[\"SVM\"][\"Recall\"].append(round(recall_score(y_test, svm_pred, average='micro')*100,3))\n"
   ]
  },
  {
   "cell_type": "markdown",
   "metadata": {},
   "source": [
    "Check the accuracy of our Naive Bayes Classifier:"
   ]
  },
  {
   "cell_type": "code",
   "execution_count": 7,
   "metadata": {},
   "outputs": [
    {
     "name": "stdout",
     "output_type": "stream",
     "text": [
      "NAIVE BAYES\n",
      "[Fold 1]\n",
      "Accuracy:\t64.669\n",
      "Precision:\t64.669\n",
      "Recall:\t\t64.669\n",
      "\n",
      "[Fold 2]\n",
      "Accuracy:\t63.567\n",
      "Precision:\t63.567\n",
      "Recall:\t\t63.567\n",
      "\n",
      "[Fold 3]\n",
      "Accuracy:\t75.826\n",
      "Precision:\t75.826\n",
      "Recall:\t\t75.826\n",
      "\n",
      "[Fold 4]\n",
      "Accuracy:\t67.7\n",
      "Precision:\t67.7\n",
      "Recall:\t\t67.7\n",
      "\n",
      "[Fold 5]\n",
      "Accuracy:\t64.094\n",
      "Precision:\t64.094\n",
      "Recall:\t\t64.094\n",
      "\n",
      "[Fold 6]\n",
      "Accuracy:\t72.433\n",
      "Precision:\t72.433\n",
      "Recall:\t\t72.433\n",
      "\n",
      "[Fold 7]\n",
      "Accuracy:\t70.069\n",
      "Precision:\t70.069\n",
      "Recall:\t\t70.069\n",
      "\n",
      "[Fold 8]\n",
      "Accuracy:\t77.172\n",
      "Precision:\t77.172\n",
      "Recall:\t\t77.172\n",
      "\n",
      "[Fold 9]\n",
      "Accuracy:\t76.0\n",
      "Precision:\t76.0\n",
      "Recall:\t\t76.0\n",
      "\n",
      "[Fold 10]\n",
      "Accuracy:\t70.462\n",
      "Precision:\t70.462\n",
      "Recall:\t\t70.462\n",
      "\n",
      "Avg. Accuracy: 70.2%\n",
      "\n"
     ]
    }
   ],
   "source": [
    "print(\"NAIVE BAYES\")\n",
    "for i in range(len(scores[\"NaiveBayes\"][\"Accuracy\"])):\n",
    "    print(\"[Fold \"+str(i+1)+\"]\")\n",
    "    print(\"Accuracy:\\t\"+str(scores[\"NaiveBayes\"][\"Accuracy\"][i]))\n",
    "    print(\"Precision:\\t\"+str(scores[\"NaiveBayes\"][\"Precision\"][i]))\n",
    "    print(\"Recall:\\t\\t\"+str(scores[\"NaiveBayes\"][\"Recall\"][i])+\"\\n\")\n",
    "print(\"Avg. Accuracy: \"+str(round(statistics.mean(scores[\"NaiveBayes\"][\"Accuracy\"]),2))+\"%\\n\")\n",
    "    \n",
    "# print(\"RANDOM FOREST\")\n",
    "# for i in range(len(scores[\"RandomForest\"][\"Accuracy\"])):\n",
    "#     print(\"[Fold \"+str(i+1)+\"]\")\n",
    "#     print(\"Accuracy:\\t\"+str(scores[\"RandomForest\"][\"Accuracy\"][i])+\"%\")\n",
    "#     print(\"Precision:\\t\"+str(scores[\"RandomForest\"][\"Precision\"][i])+\"%\")\n",
    "#     print(\"Recall:\\t\\t\"+str(scores[\"RandomForest\"][\"Recall\"][i])+\"%\\n\")\n",
    "# print(\"Avg. Accuracy: \"+str(round(statistics.mean(scores[\"RandomForest\"][\"Accuracy\"]),2))+\"%\")\n",
    "# print(\"Avg. Precision: \"+str(round(statistics.mean(scores[\"RandomForest\"][\"Precision\"]),2))+\"%\")\n",
    "# print(\"Avg. Recall: \"+str(round(statistics.mean(scores[\"RandomForest\"][\"Recall\"]),2))+\"%\\n\")\n",
    "    \n",
    "# print(\"SUPPORT VECTOR MACHINE\")\n",
    "# for i in range(len(scores[\"SVM\"][\"Accuracy\"])):\n",
    "#     print(\"[Fold \"+str(i+1)+\"]\")\n",
    "#     print(\"Accuracy:\\t\"+str(scores[\"SVM\"][\"Accuracy\"][i])+\"%\")\n",
    "#     print(\"Precision:\\t\"+str(scores[\"SVM\"][\"Precision\"][i])+\"%\")\n",
    "#     print(\"Recall:\\t\\t\"+str(scores[\"SVM\"][\"Recall\"][i])+\"%\\n\")\n",
    "# print(\"Avg. Accuracy: \"+str(round(statistics.mean(scores[\"SVM\"][\"Accuracy\"]),2))+\"%\\n\")"
   ]
  },
  {
   "cell_type": "markdown",
   "metadata": {},
   "source": [
    "Judging from the prediction scores labelled above (~70%), this model performs relatively well given how little \"hate speech\" classified data is in our set. When eliminating the \"Offensive\" label to \"Neutral\" we see a jump in prediction accuracy to 83%"
   ]
  },
  {
   "cell_type": "code",
   "execution_count": 8,
   "metadata": {},
   "outputs": [
    {
     "data": {
      "text/plain": [
       "Text(33.0, 0.5, 'Predicted')"
      ]
     },
     "execution_count": 8,
     "metadata": {},
     "output_type": "execute_result"
    },
    {
     "data": {
      "image/png": "[encoded data removed]",
      "text/plain": [
       "<Figure size 432x288 with 2 Axes>"
      ]
     },
     "metadata": {
      "needs_background": "light"
     },
     "output_type": "display_data"
    }
   ],
   "source": [
    "# matrix = confusion_matrix(y_test, nb_pred)\n",
    "# sns.heatmap(matrix, square=True, annot=True, cmap='RdBu', cbar=False,\n",
    "# xticklabels=['Neutral','Offensive','Hate'], yticklabels=['Neutral','Offensive','Hate'])\n",
    "# plt.xlabel('Actual')\n",
    "# plt.ylabel('Predicted')\n",
    "\n",
    "matrix = confusion_matrix(y_test, nb_pred)\n",
    "sns.heatmap(matrix, square=True, annot=True, cmap='RdBu', cbar=True,\n",
    "xticklabels=['Neutral','Hate'], yticklabels=['Neutral','Hate'])\n",
    "plt.xlabel('Actual')\n",
    "plt.ylabel('Predicted')"
   ]
  },
  {
   "cell_type": "code",
   "execution_count": 18,
   "metadata": {},
   "outputs": [
    {
     "data": {
      "text/plain": [
       "'C:\\\\Users\\\\jorda\\\\AppData\\\\Roaming\\\\SPB_Data'"
      ]
     },
     "execution_count": 18,
     "metadata": {},
     "output_type": "execute_result"
    }
   ],
   "source": [
    "%pwd"
   ]
  },
  {
   "cell_type": "markdown",
   "metadata": {},
   "source": [
    "### Random Forest"
   ]
  },
  {
   "cell_type": "code",
   "execution_count": 9,
   "metadata": {},
   "outputs": [
    {
     "ename": "NameError",
     "evalue": "name 'rf_pred' is not defined",
     "output_type": "error",
     "traceback": [
      "\u001b[1;31m---------------------------------------------------------------------------\u001b[0m",
      "\u001b[1;31mNameError\u001b[0m                                 Traceback (most recent call last)",
      "\u001b[1;32m<ipython-input-9-6d0f90e423e7>\u001b[0m in \u001b[0;36m<module>\u001b[1;34m\u001b[0m\n\u001b[0;32m      7\u001b[0m \u001b[1;31m# plt.ylabel('Predicted')\u001b[0m\u001b[1;33m\u001b[0m\u001b[1;33m\u001b[0m\u001b[1;33m\u001b[0m\u001b[0m\n\u001b[0;32m      8\u001b[0m \u001b[1;33m\u001b[0m\u001b[0m\n\u001b[1;32m----> 9\u001b[1;33m \u001b[0mrf_matrix\u001b[0m \u001b[1;33m=\u001b[0m \u001b[0mconfusion_matrix\u001b[0m\u001b[1;33m(\u001b[0m\u001b[0my_test\u001b[0m\u001b[1;33m,\u001b[0m \u001b[0mrf_pred\u001b[0m\u001b[1;33m)\u001b[0m\u001b[1;33m\u001b[0m\u001b[1;33m\u001b[0m\u001b[0m\n\u001b[0m\u001b[0;32m     10\u001b[0m \u001b[0mprint\u001b[0m\u001b[1;33m(\u001b[0m\u001b[0mclassification_report\u001b[0m\u001b[1;33m(\u001b[0m\u001b[0my_test\u001b[0m\u001b[1;33m,\u001b[0m \u001b[0mrf_pred\u001b[0m\u001b[1;33m)\u001b[0m\u001b[1;33m)\u001b[0m\u001b[1;33m\u001b[0m\u001b[1;33m\u001b[0m\u001b[0m\n\u001b[0;32m     11\u001b[0m \u001b[0mprint\u001b[0m\u001b[1;33m(\u001b[0m\u001b[0maccuracy_score\u001b[0m\u001b[1;33m(\u001b[0m\u001b[0my_test\u001b[0m\u001b[1;33m,\u001b[0m \u001b[0mrf_pred\u001b[0m\u001b[1;33m)\u001b[0m\u001b[1;33m)\u001b[0m\u001b[1;33m\u001b[0m\u001b[1;33m\u001b[0m\u001b[0m\n",
      "\u001b[1;31mNameError\u001b[0m: name 'rf_pred' is not defined"
     ]
    }
   ],
   "source": [
    "# rf_matrix = confusion_matrix(y_test, rf_pred)\n",
    "# print(classification_report(y_test, rf_pred))\n",
    "# print(accuracy_score(y_test, rf_pred))\n",
    "# sns.heatmap(rf_matrix, square=True, annot=True, cmap='RdBu', cbar=False,\n",
    "# xticklabels=['Neutral','Offensive','Hate'], yticklabels=['Neutral','Offensive','Hate'])\n",
    "# plt.xlabel('Actual')\n",
    "# plt.ylabel('Predicted')\n",
    "\n",
    "rf_matrix = confusion_matrix(y_test, rf_pred)\n",
    "print(classification_report(y_test, rf_pred))\n",
    "print(accuracy_score(y_test, rf_pred))\n",
    "sns.heatmap(rf_matrix, square=True, annot=True, cmap='RdBu', cbar=False,\n",
    "xticklabels=['Neutral','Hate'], yticklabels=['Neutral','Hate'])\n",
    "plt.xlabel('Actual')\n",
    "plt.ylabel('Predicted')"
   ]
  },
  {
   "cell_type": "markdown",
   "metadata": {},
   "source": [
    "### Support Vector Machine"
   ]
  },
  {
   "cell_type": "code",
   "execution_count": null,
   "metadata": {},
   "outputs": [],
   "source": [
    "# svm_matrix = confusion_matrix(y_test,svm_pred)\n",
    "# print(classification_report(y_test,svm_pred))\n",
    "# print(accuracy_score(y_test, svm_pred))\n",
    "# sns.heatmap(svm_matrix, square=True, annot=True, cmap='RdBu', cbar=False,\n",
    "# xticklabels=['Neutral','Offensive','Hate'], yticklabels=['Neutral','Offensive','Hate'])\n",
    "# plt.xlabel('Actual')\n",
    "# plt.ylabel('Predicted')\n",
    "\n",
    "svm_matrix = confusion_matrix(y_test,svm_pred)\n",
    "print(classification_report(y_test,svm_pred))\n",
    "print(accuracy_score(y_test, svm_pred))\n",
    "sns.heatmap(svm_matrix, square=True, annot=True, cmap='RdBu', cbar=False,\n",
    "xticklabels=['Neutral','Hate'], yticklabels=['Neutral','Hate'])\n",
    "plt.xlabel('Actual')\n",
    "plt.ylabel('Predicted')"
   ]
  }
 ],
 "metadata": {
  "kernelspec": {
   "display_name": "Python 3",
   "language": "python",
   "name": "python3"
  },
  "language_info": {
   "codemirror_mode": {
    "name": "ipython",
    "version": 3
   },
   "file_extension": ".py",
   "mimetype": "text/x-python",
   "name": "python",
   "nbconvert_exporter": "python",
   "pygments_lexer": "ipython3",
   "version": "3.7.4"
  }
 },
 "nbformat": 4,
 "nbformat_minor": 4
}
